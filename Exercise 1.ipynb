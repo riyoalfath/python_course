{
 "cells": [
  {
   "cell_type": "code",
   "execution_count": 1,
   "metadata": {},
   "outputs": [
    {
     "name": "stdout",
     "output_type": "stream",
     "text": [
      "Hello World!\n"
     ]
    }
   ],
   "source": [
    "print(\"Hello World!\")"
   ]
  },
  {
   "cell_type": "markdown",
   "metadata": {},
   "source": [
    "EXERCISE: LEVEL 1"
   ]
  },
  {
   "cell_type": "code",
   "execution_count": 7,
   "metadata": {},
   "outputs": [
    {
     "name": "stdout",
     "output_type": "stream",
     "text": [
      "You need to wait 7 more year(s) to be old enough to drive.\n"
     ]
    }
   ],
   "source": [
    "userAge = int(input(\"Enter your age: \"))\n",
    "\n",
    "if userAge >= 18:\n",
    "    print(\"You are old enough to learn to drive\")\n",
    "else:\n",
    "    years_to_wait = 18 - userAge\n",
    "    print(f\"You need to wait {years_to_wait} more year(s) to be old enough to drive.\")"
   ]
  },
  {
   "cell_type": "code",
   "execution_count": 6,
   "metadata": {},
   "outputs": [
    {
     "name": "stdout",
     "output_type": "stream",
     "text": [
      "You are 10 year(s) older than me\n"
     ]
    }
   ],
   "source": [
    "myAge = 20\n",
    "yourAge = int(input(\"Enter your age: \"))\n",
    "\n",
    "if myAge < yourAge:\n",
    "    older = yourAge - myAge\n",
    "    print(f\"You are {older} year(s) older than me\")\n",
    "elif myAge == yourAge:\n",
    "    print(\"We have the same age\")\n",
    "else:\n",
    "    younger = myAge - yourAge\n",
    "    print(f\"You are {younger} year(s) younger than me\")"
   ]
  },
  {
   "cell_type": "code",
   "execution_count": 10,
   "metadata": {},
   "outputs": [
    {
     "name": "stdout",
     "output_type": "stream",
     "text": [
      "2 is greater than 1\n"
     ]
    }
   ],
   "source": [
    "a = int(input(\"Enter number one: \"))\n",
    "b = int(input(\"Enter number two: \"))\n",
    "\n",
    "if a > b:\n",
    "    print(f\"{a} is greater than {b}\")\n",
    "elif a < b:\n",
    "    print(f\"{a} is smaller than {b}\")\n",
    "else:\n",
    "    print(f\"{a} is equal to {b}\")"
   ]
  },
  {
   "cell_type": "markdown",
   "metadata": {},
   "source": [
    "EXERCISE: LEVEL 2"
   ]
  },
  {
   "cell_type": "code",
   "execution_count": 17,
   "metadata": {},
   "outputs": [
    {
     "name": "stdout",
     "output_type": "stream",
     "text": [
      "Your grade is A\n"
     ]
    }
   ],
   "source": [
    "scoreGrade = int(input(\"Enter your score: \"))\n",
    "\n",
    "if scoreGrade > 79:\n",
    "    print(\"Your grade is A\")\n",
    "elif scoreGrade > 69:\n",
    "    print(\"Your grade is B\")\n",
    "elif scoreGrade > 59:\n",
    "    print(\"Your grade is C\")\n",
    "elif scoreGrade > 49:\n",
    "    print(\"Your grade is D\")\n",
    "elif scoreGrade >= 0:\n",
    "    print(\"Your grade is E\")\n",
    "else:\n",
    "    print(\"Your grade is F\")"
   ]
  },
  {
   "cell_type": "code",
   "execution_count": 19,
   "metadata": {},
   "outputs": [
    {
     "name": "stdout",
     "output_type": "stream",
     "text": [
      "The season is Winter.\n"
     ]
    }
   ],
   "source": [
    "month = input(\"Enter the month: \").strip().capitalize()\n",
    "\n",
    "if month in [\"September\", \"October\", \"November\"]:\n",
    "    season = \"Autumn\"\n",
    "elif month in [\"December\", \"January\", \"February\"]:\n",
    "    season = \"Winter\"\n",
    "elif month in [\"March\", \"April\", \"May\"]:\n",
    "    season = \"Spring\"\n",
    "elif month in [\"June\", \"July\", \"August\"]:\n",
    "    season = \"Summer\"\n",
    "else:\n",
    "    season = \"Invalid month\"\n",
    "\n",
    "if season != \"Invalid month\":\n",
    "    print(f\"The season is {season}.\")\n",
    "else:\n",
    "    print(\"Please enter a valid month.\")"
   ]
  },
  {
   "cell_type": "code",
   "execution_count": 22,
   "metadata": {},
   "outputs": [
    {
     "name": "stdout",
     "output_type": "stream",
     "text": [
      "Fruit added to the list.\n",
      "Update list of fruits: ['banana', 'orange', 'mango', 'lemon', 'grape']\n"
     ]
    }
   ],
   "source": [
    "fruits = [\"banana\", \"orange\", \"mango\", \"lemon\"]\n",
    "\n",
    "new_fruit = input(\"Enter a fruit: \").strip().lower()\n",
    "\n",
    "if new_fruit in fruits:\n",
    "    print(\"That fruit already exist in the list\")\n",
    "else:\n",
    "    fruits.append(new_fruit)\n",
    "    print(\"Fruit added to the list.\")\n",
    "    print(\"Update list of fruits:\", fruits)"
   ]
  },
  {
   "cell_type": "markdown",
   "metadata": {},
   "source": [
    "EXERCISE: LEVEL 3"
   ]
  },
  {
   "cell_type": "code",
   "execution_count": 24,
   "metadata": {},
   "outputs": [
    {
     "name": "stdout",
     "output_type": "stream",
     "text": [
      "Middle skill: Node\n",
      "The person has Python skill.\n",
      "He/she is a backend developer.\n",
      "Aurora Luna lives in Indonesia.\n"
     ]
    }
   ],
   "source": [
    "person = {\n",
    "    \"first_name\": \"Aurora\",\n",
    "    \"last_name\": \"Luna\",\n",
    "    \"age\": 6,\n",
    "    \"country\": \"Indonesia\",\n",
    "    \"skills\": [\"JavaScript\", \"React\", \"Node\", \"MongoDB\", \"Python\"],\n",
    "    \"address\": {\n",
    "        \"street\": \"Jl. Kebayoran Baru\",\n",
    "        'zipcode': '123456'\n",
    "    }\n",
    "}\n",
    "\n",
    "if \"skills\" in person:\n",
    "    skills = person[\"skills\"]\n",
    "    \n",
    "    middle_skill_index = len(skills) // 2\n",
    "    print(\"Middle skill:\", skills[middle_skill_index])\n",
    "    \n",
    "    if 'Python' in skills:\n",
    "        print(\"The person has Python skill.\")\n",
    "    else:\n",
    "        print(\"The person does not have Python skill.\")\n",
    "    \n",
    "    if set(skills) == {\"JavaScript\", \"React\"}:\n",
    "        print(\"He/she is a front end developer.\")\n",
    "    elif set(skills).issuperset({\"Node\", \"Python\", \"MongoDB\"}):\n",
    "        print(\"He/she is a backend developer.\")\n",
    "    elif set(skills).issuperset({\"React\", \"Node\", \"MongoDB\"}):\n",
    "        print(\"He/she is a fullstack developer.\")\n",
    "    else:\n",
    "        print(\"Unknown title.\")\n",
    "\n",
    "if person[\"country\"] == \"Indonesia\":\n",
    "    full_name = f\"{person['first_name']} {person['last_name']}\"\n",
    "    print(f\"{full_name} lives in Indonesia.\")\n"
   ]
  }
 ],
 "metadata": {
  "kernelspec": {
   "display_name": "Python 3",
   "language": "python",
   "name": "python3"
  },
  "language_info": {
   "codemirror_mode": {
    "name": "ipython",
    "version": 3
   },
   "file_extension": ".py",
   "mimetype": "text/x-python",
   "name": "python",
   "nbconvert_exporter": "python",
   "pygments_lexer": "ipython3",
   "version": "3.12.5"
  }
 },
 "nbformat": 4,
 "nbformat_minor": 2
}
